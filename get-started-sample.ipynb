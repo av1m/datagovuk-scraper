{
 "cells": [
  {
   "cell_type": "code",
   "execution_count": null,
   "metadata": {},
   "outputs": [],
   "source": [
    "import asyncio\n",
    "from datagovuk.scraper import Scraper\n",
    "\n",
    "query = \"house\"\n",
    "format_type = \"CSV\"\n",
    "number_record = 10\n"
   ]
  },
  {
   "cell_type": "code",
   "execution_count": null,
   "metadata": {},
   "outputs": [],
   "source": [
    "# Create a scraper object\n",
    "scraper = Scraper(query=query, format_type=format_type)"
   ]
  },
  {
   "cell_type": "code",
   "execution_count": null,
   "metadata": {},
   "outputs": [],
   "source": [
    "# Search on the data.gov.uk\n",
    "scraper.search(page=1, cache_first=False)"
   ]
  },
  {
   "cell_type": "code",
   "execution_count": null,
   "metadata": {},
   "outputs": [],
   "source": [
    "async def run():\n",
    "    try:\n",
    "        # Get the datasets\n",
    "        await scraper.get_datasets(count=number_record)\n",
    "        # Download files\n",
    "        await scraper.download()\n",
    "        # Save metadata of the datasets\n",
    "        scraper.save_metadata()\n",
    "    finally:\n",
    "        await scraper.session.close()"
   ]
  },
  {
   "cell_type": "code",
   "execution_count": null,
   "metadata": {},
   "outputs": [],
   "source": [
    "loop = asyncio.get_event_loop()\n",
    "run_coroutine = asyncio.run_coroutine_threadsafe(coro=run(), loop=loop)"
   ]
  },
  {
   "cell_type": "code",
   "execution_count": null,
   "metadata": {},
   "outputs": [],
   "source": [
    "import os\n",
    "from pathlib import Path\n",
    "\n",
    "\n",
    "def list_files(startpath):\n",
    "    # https://stackoverflow.com/a/9728478\n",
    "    for root, _, files in os.walk(startpath):\n",
    "        level = root.replace(startpath, \"\").count(os.sep)\n",
    "        indent = ' ' * 4 * (level)\n",
    "        print(f\"{indent}{os.path.basename(root)}\")\n",
    "        for f in files:\n",
    "            print(f\"{indent}\\t{f}\")\n",
    "\n",
    "\n",
    "list_files(str(Path.home() / \"datagovuk\"))"
   ]
  }
 ],
 "metadata": {
  "interpreter": {
   "hash": "cc4fc76f6040a0c4f538cbacdfcc9ba32d154e65a08ee817ca43051458f3904c"
  },
  "kernelspec": {
   "display_name": "Python 3.10.1 ('.venv': venv)",
   "language": "python",
   "name": "python3"
  },
  "language_info": {
   "codemirror_mode": {
    "name": "ipython",
    "version": 3
   },
   "file_extension": ".py",
   "mimetype": "text/x-python",
   "name": "python",
   "nbconvert_exporter": "python",
   "pygments_lexer": "ipython3",
   "version": "3.10.1"
  },
  "orig_nbformat": 4
 },
 "nbformat": 4,
 "nbformat_minor": 2
}
